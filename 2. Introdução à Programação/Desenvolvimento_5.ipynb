{
  "nbformat": 4,
  "nbformat_minor": 0,
  "metadata": {
    "colab": {
      "provenance": []
    },
    "kernelspec": {
      "name": "python3",
      "display_name": "Python 3"
    },
    "language_info": {
      "name": "python"
    }
  },
  "cells": [
    {
      "cell_type": "markdown",
      "source": [
        "# **Desenvolvimento 5**\n",
        "\n",
        "## **Descrição do projeto**\n",
        "Faça uma função calculadora que os números e as operações serão feitas pelo usuário. O código deve ficar rodando infinitamente até que o usuário escolha a opção de sair. No início, o programa mostrará a seguinte lista de operações:\n",
        "\n",
        "1: Soma ➕\n",
        "\n",
        "2: Subtração ➖\n",
        "\n",
        "3: Multiplicação ✖️\n",
        "\n",
        "4: Divisão ➗\n",
        "\n",
        "0: Sair 👋🏻\n",
        "\n",
        "Digite o número para a operação correspondente e caso o usuário introduza qualquer outro, o sistema deve mostrar a mensagem “Essa opção não existe” e voltar ao menu de opções.\n",
        "\n",
        "Após a seleção, o sistema deve pedir para o usuário inserir o primeiro e segundo valor, um de cada. Depois precisa executar a operação e mostrar o resultado na tela. Quando o usuário escolher a opção “Sair”, o sistema irá parar.\n",
        "\n",
        "É necessário que o sistema mostre as opções sempre que finalizar uma operação e mostrar o resultado."
      ],
      "metadata": {
        "id": "RAy6sTQpkYkp"
      }
    },
    {
      "cell_type": "markdown",
      "source": [
        "## **Resolução**"
      ],
      "metadata": {
        "id": "VxiGWl0pkpVo"
      }
    },
    {
      "cell_type": "code",
      "execution_count": 1,
      "metadata": {
        "id": "aCxfvo4LkV83"
      },
      "outputs": [],
      "source": [
        "def calculadora():\n",
        "    while True:\n",
        "      print(\"\\nOperações:\")\n",
        "      print(\"1: Soma\")\n",
        "      print(\"2: Subtração\")\n",
        "      print(\"3: Multiplicação\")\n",
        "      print(\"4: Divisão\")\n",
        "      print(\"0: Sair\")\n",
        "\n",
        "      operacao = int(input(\"Digite o número para a operação desejada: \"))\n",
        "      if operacao == 0:\n",
        "        print(\"Saindo do programa...\")\n",
        "        break  # Encerra o loop e o programa\n",
        "\n",
        "      if operacao in [1, 2, 3, 4]:\n",
        "        n1 = float(input(\"Digite o primeiro número: \"))\n",
        "        n2 = float(input(\"Digite o segundo número: \"))\n",
        "\n",
        "      # Realiza a operação escolhida\n",
        "      if operacao == 1:\n",
        "        print(f\"Resultado: {n1} + {n2} = {n1 + n2}\")\n",
        "      elif operacao == 2:\n",
        "        print(f\"Resultado: {n1} - {n2} = {n1 - n2}\")\n",
        "      elif operacao == 3:\n",
        "        print(f\"Resultado: {n1} * {n2} = {n1 * n2}\")\n",
        "      elif operacao == 4:\n",
        "        if n2 != 0:\n",
        "          print(f\"Resultado: {n1} / {n2} = {n1 / n2}\")\n",
        "        else:\n",
        "          print(\"Divisão por zero não é permitida.\")\n",
        "      else:\n",
        "        print(\"Essa opção não existe. Por favor, escolha uma opção válida.\")"
      ]
    },
    {
      "cell_type": "code",
      "source": [
        "calculadora()"
      ],
      "metadata": {
        "colab": {
          "base_uri": "https://localhost:8080/"
        },
        "id": "ZmJKFQhDFZj7",
        "outputId": "c41a3697-5c94-4998-f15f-2351ec40960d"
      },
      "execution_count": 2,
      "outputs": [
        {
          "output_type": "stream",
          "name": "stdout",
          "text": [
            "\n",
            "Operações:\n",
            "1: Soma\n",
            "2: Subtração\n",
            "3: Multiplicação\n",
            "4: Divisão\n",
            "0: Sair\n",
            "Digite o número para a operação desejada: 1\n",
            "Digite o primeiro número: 4\n",
            "Digite o segundo número: 10.5\n",
            "Resultado: 4.0 + 10.5 = 14.5\n",
            "\n",
            "Operações:\n",
            "1: Soma\n",
            "2: Subtração\n",
            "3: Multiplicação\n",
            "4: Divisão\n",
            "0: Sair\n",
            "Digite o número para a operação desejada: 2\n",
            "Digite o primeiro número: 8\n",
            "Digite o segundo número: 2\n",
            "Resultado: 8.0 - 2.0 = 6.0\n",
            "\n",
            "Operações:\n",
            "1: Soma\n",
            "2: Subtração\n",
            "3: Multiplicação\n",
            "4: Divisão\n",
            "0: Sair\n",
            "Digite o número para a operação desejada: 3\n",
            "Digite o primeiro número: 4\n",
            "Digite o segundo número: 3\n",
            "Resultado: 4.0 * 3.0 = 12.0\n",
            "\n",
            "Operações:\n",
            "1: Soma\n",
            "2: Subtração\n",
            "3: Multiplicação\n",
            "4: Divisão\n",
            "0: Sair\n",
            "Digite o número para a operação desejada: 4\n",
            "Digite o primeiro número: 8\n",
            "Digite o segundo número: 4\n",
            "Resultado: 8.0 / 4.0 = 2.0\n",
            "\n",
            "Operações:\n",
            "1: Soma\n",
            "2: Subtração\n",
            "3: Multiplicação\n",
            "4: Divisão\n",
            "0: Sair\n",
            "Digite o número para a operação desejada: 4\n",
            "Digite o primeiro número: 4\n",
            "Digite o segundo número: 0\n",
            "Divisão por zero não é permitida.\n",
            "\n",
            "Operações:\n",
            "1: Soma\n",
            "2: Subtração\n",
            "3: Multiplicação\n",
            "4: Divisão\n",
            "0: Sair\n",
            "Digite o número para a operação desejada: 0\n",
            "Saindo do programa...\n"
          ]
        }
      ]
    }
  ]
}