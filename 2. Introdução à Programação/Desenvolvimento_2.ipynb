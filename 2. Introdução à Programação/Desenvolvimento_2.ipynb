{
  "nbformat": 4,
  "nbformat_minor": 0,
  "metadata": {
    "colab": {
      "provenance": []
    },
    "kernelspec": {
      "name": "python3",
      "display_name": "Python 3"
    },
    "language_info": {
      "name": "python"
    }
  },
  "cells": [
    {
      "cell_type": "markdown",
      "source": [
        "# **Desenvolvimento 1**\n",
        "## 📝 **Descrição do projeto**\n",
        "Desenvolva um algoritmo que utilize as seguintes características de um veículo:\n",
        "- Quantidade de rodas;\n",
        "- Peso bruto em quilogramas;\n",
        "- Quantidade de pessoas no veículo.\n",
        "\n",
        "Com essas informações, o programa mostrará qual é a melhor categoria de habilitação para o veículo informado a partir das condições:\n",
        "\n",
        "A: Veículos com duas ou três rodas;\n",
        "\n",
        "B: Veículos com quatro rodas, que acomodam até oito pessoas e seu peso é de até 3500 kg;\n",
        "\n",
        "C: Veículos com quatro rodas ou mais e com peso entre 3500 e 6000 kg;\n",
        "\n",
        "D: Veículos com quatro rodas ou mais e que acomodam mais de oito pessoas;\n",
        "\n",
        "E: Veículos com quatro rodas ou mais e com mais de 6000 kg."
      ],
      "metadata": {
        "id": "GUlw-XNbp1Fj"
      }
    },
    {
      "cell_type": "markdown",
      "source": [
        "## **Resolução**"
      ],
      "metadata": {
        "id": "P9Vvr0eN9Rwj"
      }
    },
    {
      "cell_type": "code",
      "execution_count": 1,
      "metadata": {
        "colab": {
          "base_uri": "https://localhost:8080/"
        },
        "id": "ytLEwEgIpyKT",
        "outputId": "d177a121-6ccd-44c9-95b8-6ea7ed21998d"
      },
      "outputs": [
        {
          "output_type": "stream",
          "name": "stdout",
          "text": [
            "C\n"
          ]
        }
      ],
      "source": [
        "# Categorias do veículo\n",
        "\n",
        "qt_rodas = 4\n",
        "peso_bruto = 3900\n",
        "qt_pessoas = 2\n",
        "\n",
        "if (qt_rodas == 2) or (qt_rodas == 3):\n",
        "  print(\"A\")\n",
        "elif (qt_rodas == 4) and (qt_pessoas <= 8) and (peso_bruto <= 3500):\n",
        "  print(\"B\")\n",
        "elif (qt_rodas >= 4) and (peso_bruto >= 3500) and (peso_bruto <= 6000):\n",
        "  print(\"C\")\n",
        "elif (qt_rodas >= 4) and (qt_pessoas > 8):\n",
        "  print(\"D\")\n",
        "elif (qt_rodas >= 4) and (peso_bruto > 6000):\n",
        "  print(\"E\")\n"
      ]
    },
    {
      "cell_type": "markdown",
      "source": [
        "#### **Explicando o código**👩🏻‍💻\n",
        "O `if` está sendo usado para verificar se o veículo pertence à categoria A, através do operador lógico or - onde é necessário que pelo menos uma das condições seja verdadeira. Como a quantidade de rodas informada no código é 4, nenhuma das condições do `if` é verdadeira, passando então para o `elif`. O elif de todas as condições usa o and, ou seja, é necessário que todas as condições impostas sejam verdadeiras. Sendo assim, com base nos dados colocados nas variáveis, o `elif` considerado verdadeiro será o que está presente na categoria C, pois tem 4 rodas e o peso é 3900 (maior que 3500 e menor que 6000), ou seja, todas as condições são verdadeiras.\n",
        "\n",
        ""
      ],
      "metadata": {
        "id": "DTubaAQN0pB9"
      }
    }
  ]
}