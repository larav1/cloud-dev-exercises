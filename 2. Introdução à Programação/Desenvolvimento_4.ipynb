{
  "nbformat": 4,
  "nbformat_minor": 0,
  "metadata": {
    "colab": {
      "provenance": []
    },
    "kernelspec": {
      "name": "python3",
      "display_name": "Python 3"
    },
    "language_info": {
      "name": "python"
    }
  },
  "cells": [
    {
      "cell_type": "markdown",
      "source": [
        "# **Desenvolvimento 4**\n",
        "## **Descrição do projeto**\n",
        "Faça uma função calculadora de dois números com três parâmetros: os dois primeiros serão os números da operação e o terceiro será a entrada que definirá a operação a ser executada. Considera a seguinte definição:\n",
        "1. Soma ➕\n",
        "2. Subtração ➖\n",
        "3. Multiplicação ✖️\n",
        "4. Divisão ➗\n",
        "\n",
        "Caso seja inserido um número de operação que não exista, o resultado deverá ser 0."
      ],
      "metadata": {
        "id": "GxR_zmOp-zJr"
      }
    },
    {
      "cell_type": "markdown",
      "source": [
        "## **Resolução**"
      ],
      "metadata": {
        "id": "g9sgA-i-_ESB"
      }
    },
    {
      "cell_type": "code",
      "execution_count": 1,
      "metadata": {
        "id": "JlyE9mqi-v1Y"
      },
      "outputs": [],
      "source": [
        "# Calculadora\n",
        "def calculadora(num1, num2, operacao):\n",
        "  if (operacao == \"+\"):\n",
        "    return num1 + num2  # Soma\n",
        "  elif (operacao == \"-\"):\n",
        "    return num1 - num2  # Subtração\n",
        "  elif (operacao == \"*\"):\n",
        "    return num1 * num2  # Multiplicação\n",
        "  elif (operacao == \"/\"):\n",
        "    return num1 / num2  # Divisão\n",
        "  else:\n",
        "    return 0  # Caso não escolha nenhuma dessas opções, será exibido 0"
      ]
    },
    {
      "cell_type": "code",
      "source": [
        "resultado = calculadora(8, 16, \"*\")  # Multiplicação\n",
        "\n",
        "print(resultado)"
      ],
      "metadata": {
        "colab": {
          "base_uri": "https://localhost:8080/"
        },
        "id": "cAbfpl4TBmg8",
        "outputId": "010a490c-fa99-4d35-8185-240be7652f40"
      },
      "execution_count": 4,
      "outputs": [
        {
          "output_type": "stream",
          "name": "stdout",
          "text": [
            "128\n"
          ]
        }
      ]
    }
  ]
}