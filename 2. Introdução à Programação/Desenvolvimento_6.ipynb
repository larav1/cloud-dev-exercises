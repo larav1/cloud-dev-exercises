{
  "nbformat": 4,
  "nbformat_minor": 0,
  "metadata": {
    "colab": {
      "provenance": []
    },
    "kernelspec": {
      "name": "python3",
      "display_name": "Python 3"
    },
    "language_info": {
      "name": "python"
    }
  },
  "cells": [
    {
      "cell_type": "markdown",
      "source": [
        "# **Desenvolvimento 6**\n",
        "## **Descrição do projeto**\n",
        "Desenvolva um programa que recebe do usuário nome completo e ano de nascimento que seja entre 1922 e 2021.\n",
        "A partir dessas informações, o sistema mostrará o nome do usuário e a idade que completou, ou completará, no ano atual (2022).\n",
        "\n",
        "Caso o usuário não digite um número ou apareça um inválido no campo do ano, o sistema informará o erro e continuará perguntando até que um valor correto seja preenchido.\n"
      ],
      "metadata": {
        "id": "GkJfL-YqN7-l"
      }
    },
    {
      "cell_type": "markdown",
      "source": [
        "## **Resolução**"
      ],
      "metadata": {
        "id": "LWST2LAOOViT"
      }
    },
    {
      "cell_type": "code",
      "execution_count": 5,
      "metadata": {
        "colab": {
          "base_uri": "https://localhost:8080/"
        },
        "id": "sjXGqslAN5E9",
        "outputId": "e4ca25d8-6aa9-4025-9ead-61857868e91c"
      },
      "outputs": [
        {
          "output_type": "stream",
          "name": "stdout",
          "text": [
            "Digite seu nome completo: Lara Vitória da Costa Bezerra\n",
            "Digite seu ano de nascimento (entre 1922 e 2021): 1998\n",
            "Lara Vitória da Costa Bezerra -> você completou ou completará 24 anos em 2022.\n"
          ]
        }
      ],
      "source": [
        "while True:\n",
        "    try:\n",
        "      nome_completo = input(\"Digite seu nome completo: \")\n",
        "      ano_nascimento = int(input(\"Digite seu ano de nascimento (entre 1922 e 2021): \"))\n",
        "\n",
        "      if 1922 <= ano_nascimento <= 2021:\n",
        "        idade = 2022 - ano_nascimento\n",
        "        print(nome_completo,\"-> você completou ou completará\", idade, \"anos em 2022.\")\n",
        "        break\n",
        "      else:\n",
        "        print(\"O ano de nascimento deve estar entre 1922 e 2021. Tente novamente.\")\n",
        "\n",
        "    except ValueError:\n",
        "      print(\"Erro: Você deve digitar um número válido. Tente novamente.\")"
      ]
    }
  ]
}