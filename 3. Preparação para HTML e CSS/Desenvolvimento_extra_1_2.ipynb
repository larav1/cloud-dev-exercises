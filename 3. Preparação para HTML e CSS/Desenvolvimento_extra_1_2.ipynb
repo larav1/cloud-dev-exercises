{
  "nbformat": 4,
  "nbformat_minor": 0,
  "metadata": {
    "colab": {
      "provenance": []
    },
    "kernelspec": {
      "name": "python3",
      "display_name": "Python 3"
    },
    "language_info": {
      "name": "python"
    }
  },
  "cells": [
    {
      "cell_type": "markdown",
      "source": [
        "## **Instruções do projeto**\n",
        "Copie o array apresentado embaixo no seu editor de código, e imprima no terminal: a quantidade de elementos que ele possui, o dado salvo no índice 2, o dado salvo no índice 9, e dado salvo no índice 14.\n",
        "\n",
        "```\n",
        "lista_musicos = [ 'Djavan', 'Roberto Carlos', 'Elis Regina', 'Tom Jobim', 'Milton Nascimento', 'Chico Buarque', 'Nara Leão', 'Pitty', 'Simonal', 'Moacir Santos', 'Caetano Veloso', 'Elza Soares', 'Paulinho da Viola', 'Yamandú Costa', 'Gal Costa'] `\n"
      ],
      "metadata": {
        "id": "anbNozSvSQzn"
      }
    },
    {
      "cell_type": "code",
      "execution_count": null,
      "metadata": {
        "id": "JdV6GYzMSNqm"
      },
      "outputs": [],
      "source": [
        "lista_musicos = [ 'Djavan', 'Roberto Carlos', 'Elis Regina', 'Tom Jobim', 'Milton Nascimento', 'Chico Buarque', 'Nara Leão', 'Pitty', 'Simonal', 'Moacir Santos', 'Caetano Veloso', 'Elza Soares', 'Paulinho da Viola', 'Yamandú Costa', 'Gal Costa']"
      ]
    },
    {
      "cell_type": "code",
      "source": [
        "#Quantidade de elementos\n",
        "print(len(lista_musicos))\n"
      ],
      "metadata": {
        "colab": {
          "base_uri": "https://localhost:8080/"
        },
        "id": "mvLOyVMwSohv",
        "outputId": "a9809861-53f5-4b9a-f99e-d1e8a2dd8eee"
      },
      "execution_count": null,
      "outputs": [
        {
          "output_type": "stream",
          "name": "stdout",
          "text": [
            "15\n"
          ]
        }
      ]
    },
    {
      "cell_type": "code",
      "source": [
        "#Dado salvo no item 2\n",
        "print(lista_musicos[2])"
      ],
      "metadata": {
        "colab": {
          "base_uri": "https://localhost:8080/"
        },
        "id": "Ml-7ssYWSzPs",
        "outputId": "7a3791da-75f6-4888-c7df-4d31be0b8cf9"
      },
      "execution_count": null,
      "outputs": [
        {
          "output_type": "stream",
          "name": "stdout",
          "text": [
            "Elis Regina\n"
          ]
        }
      ]
    },
    {
      "cell_type": "code",
      "source": [
        "#Dado salvo no item 9\n",
        "print(lista_musicos[9])"
      ],
      "metadata": {
        "colab": {
          "base_uri": "https://localhost:8080/"
        },
        "id": "Z2cs9K8wTR3n",
        "outputId": "fe498308-10f8-4a2f-8f60-7bef2e69ed59"
      },
      "execution_count": null,
      "outputs": [
        {
          "output_type": "stream",
          "name": "stdout",
          "text": [
            "Moacir Santos\n"
          ]
        }
      ]
    },
    {
      "cell_type": "code",
      "source": [
        "#Dado salvo no item 14\n",
        "print(lista_musicos[14])"
      ],
      "metadata": {
        "colab": {
          "base_uri": "https://localhost:8080/"
        },
        "id": "YIRwMUusTY4O",
        "outputId": "95b7d64a-9653-4df5-ec2a-33a040788bb3"
      },
      "execution_count": null,
      "outputs": [
        {
          "output_type": "stream",
          "name": "stdout",
          "text": [
            "Gal Costa\n"
          ]
        }
      ]
    }
  ]
}