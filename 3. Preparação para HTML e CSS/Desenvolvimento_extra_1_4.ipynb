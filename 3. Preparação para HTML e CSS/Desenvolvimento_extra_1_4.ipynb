{
  "nbformat": 4,
  "nbformat_minor": 0,
  "metadata": {
    "colab": {
      "provenance": []
    },
    "kernelspec": {
      "name": "python3",
      "display_name": "Python 3"
    },
    "language_info": {
      "name": "python"
    }
  },
  "cells": [
    {
      "cell_type": "markdown",
      "source": [
        "## **Intruções do projeto**\n",
        "\n",
        "A loja de cosméticos ficou muito feliz com seu trabalho e chamaram você novamente! Dessa vez, eles precisam que você atualize o array de produtos. Agora, eles estão vendendo rímel ao invés de batons, e cremes hidratantes no lugar de loções. Além disso, ficaram sem delineadores, então precisam que você remova ele da lista de produtos. Imprima a nova lista no terminal para verificar que as alterações foram realizadas corretamente.\n",
        "\n",
        "lista_produtos = ['máscaras faciais', 'batons', 'esmaltes', 'perfumes', 'loções', 'xampus', 'sabonetes', 'delineadores']\n",
        "\n",
        "Como desafio, adicione dois novos produtos da sua escolha à lista.\n"
      ],
      "metadata": {
        "id": "daluGzzCfFd6"
      }
    },
    {
      "cell_type": "code",
      "execution_count": 6,
      "metadata": {
        "colab": {
          "base_uri": "https://localhost:8080/"
        },
        "id": "REexCkZPe7mh",
        "outputId": "c21b5a8b-8ec9-49c7-cf2a-f01070a4e639"
      },
      "outputs": [
        {
          "output_type": "stream",
          "name": "stdout",
          "text": [
            "['máscaras faciais', 'rímel', 'esmaltes', 'perfumes', 'cremes hidratantes', 'xampus', 'sabonetes', 'esfoliantes', 'desodorante']\n"
          ]
        }
      ],
      "source": [
        "lista_produtos = [\"máscaras faciais\", \"batons\", \"esmaltes\", \"perfumes\", \"loções\", \"xampus\", \"sabonetes\", \"delineadores\"]\n",
        "\n",
        "# Alterando os produtos da posição 1 e 4\n",
        "lista_produtos[1] = \"rímel\"\n",
        "lista_produtos[4] = \"cremes hidratantes\"\n",
        "\n",
        "# Removendo o delineador\n",
        "lista_produtos.pop(7)\n",
        "\n",
        "# Adição de 2 novos produtos\n",
        "lista_produtos.append(\"esfoliantes\")\n",
        "lista_produtos.append(\"desodorante\")\n",
        "\n",
        "# Nova lista\n",
        "print(lista_produtos)"
      ]
    }
  ]
}