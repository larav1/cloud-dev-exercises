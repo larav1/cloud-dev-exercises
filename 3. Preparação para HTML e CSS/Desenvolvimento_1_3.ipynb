{
  "nbformat": 4,
  "nbformat_minor": 0,
  "metadata": {
    "colab": {
      "provenance": []
    },
    "kernelspec": {
      "name": "python3",
      "display_name": "Python 3"
    },
    "language_info": {
      "name": "python"
    }
  },
  "cells": [
    {
      "cell_type": "markdown",
      "source": [
        "## **Intruções do projeto**\n",
        "\n",
        "Uma nova loja de cosméticos abriu no seu bairro e pediram para você elaborar um sistema que imprime na tela na frente da loja os novos produtos que chegaram. O sistema da loja já tem um array com os produtos, você precisa apenas imprimir eles no terminal, um por um.\n",
        "\n",
        "Como desafio opcional, tente imprimir cada produto com a frase \"Temos [produto] à venda!\" (ex. \"Temos máscaras faciais à venda!\").\n",
        "\n",
        "```\n",
        "lista_produtos = ['máscaras faciais', 'batons', 'esmaltes', 'perfumes', 'loções', 'xampus', 'sabonetes', 'delineadores'] `\n"
      ],
      "metadata": {
        "id": "syvC7ywqaCxn"
      }
    },
    {
      "cell_type": "code",
      "source": [
        "lista_produtos = ['máscaras faciais', 'batons', 'esmaltes', 'perfumes', 'loções', 'xampus', 'sabonetes', 'delineadores']\n",
        "\n",
        "print(lista_produtos)"
      ],
      "metadata": {
        "id": "r5ObVpHQbACI",
        "outputId": "ebef35f9-ec5d-4082-b940-49a65f6f529f",
        "colab": {
          "base_uri": "https://localhost:8080/"
        }
      },
      "execution_count": null,
      "outputs": [
        {
          "output_type": "stream",
          "name": "stdout",
          "text": [
            "['máscaras faciais', 'batons', 'esmaltes', 'perfumes', 'loções', 'xampus', 'sabonetes', 'delineadores']\n"
          ]
        }
      ]
    },
    {
      "cell_type": "code",
      "execution_count": null,
      "metadata": {
        "colab": {
          "base_uri": "https://localhost:8080/"
        },
        "id": "TqT2fudgaBtb",
        "outputId": "a234d54a-59f4-4fc2-e197-3a05ceaee38a"
      },
      "outputs": [
        {
          "output_type": "stream",
          "name": "stdout",
          "text": [
            "Temos máscaras faciais à venda\n",
            "Temos batons à venda\n",
            "Temos esmaltes à venda\n",
            "Temos perfumes à venda\n",
            "Temos loções à venda\n",
            "Temos xampus à venda\n",
            "Temos sabonetes à venda\n",
            "Temos delineadores à venda\n"
          ]
        }
      ],
      "source": [
        "for produto in lista_produtos:\n",
        "  print(f\"Temos {produto} à venda\")\n"
      ]
    }
  ]
}