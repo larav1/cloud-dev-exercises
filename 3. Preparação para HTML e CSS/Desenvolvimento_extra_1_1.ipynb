{
  "nbformat": 4,
  "nbformat_minor": 0,
  "metadata": {
    "colab": {
      "provenance": []
    },
    "kernelspec": {
      "name": "python3",
      "display_name": "Python 3"
    },
    "language_info": {
      "name": "python"
    }
  },
  "cells": [
    {
      "cell_type": "markdown",
      "source": [
        "## **Intruções do projeto**\n",
        "----------------------------------------\n",
        "Declare dois arrays, cada um com um mínimo de cinco elementos, e imprima eles no terminal usando o comando print(). O primeiro array deve conter os produtos de uma loja da sua escolha (loja de comida, materiais de construção, música, etc). O segundo array deve conter os anos de nascimento de familiares e amigos seus. Lembre-se de usar nomes descritivos para nomear cada variável, e de usar o tipo de dado apropriado para cada lista (strings, booleanos, números inteiros, floats).\n",
        "\n",
        "Autora: Lara Vitória da Costa Bezerra"
      ],
      "metadata": {
        "id": "etExqPC9JNMJ"
      }
    },
    {
      "cell_type": "code",
      "execution_count": null,
      "metadata": {
        "id": "fk9zVMD2JKXl"
      },
      "outputs": [],
      "source": [
        "itens_comida = [\"Bolo de chocolate\", \"Pizza\", \"Lasanha\", \"Pastel\", \"Sanduíche\"]\n"
      ]
    },
    {
      "cell_type": "code",
      "source": [
        "print(itens_comida)"
      ],
      "metadata": {
        "colab": {
          "base_uri": "https://localhost:8080/"
        },
        "id": "HlW1BlQKLm0e",
        "outputId": "c7a1f450-ee67-4f64-d355-48a0cb2381c4"
      },
      "execution_count": null,
      "outputs": [
        {
          "output_type": "stream",
          "name": "stdout",
          "text": [
            "['Bolo de chocolate', 'Pizza', 'Lasanha', 'Pastel', 'Sanduíche']\n"
          ]
        }
      ]
    },
    {
      "cell_type": "code",
      "source": [
        "ano_nascimento = [[\"Lorena\", 1994],[\"Leonora\", 1963], [\"João\", 1965], [\"Luiza\", 2008], [\"Maria\", 1960]]"
      ],
      "metadata": {
        "id": "htLeOn24N0Uh"
      },
      "execution_count": null,
      "outputs": []
    },
    {
      "cell_type": "code",
      "source": [
        "print(ano_nascimento)"
      ],
      "metadata": {
        "id": "w0LFxNqIMZws",
        "outputId": "d0f3a695-05a5-4d3c-e496-e846e3daa9cf",
        "colab": {
          "base_uri": "https://localhost:8080/"
        }
      },
      "execution_count": null,
      "outputs": [
        {
          "output_type": "stream",
          "name": "stdout",
          "text": [
            "[['Lorena', 1994], ['Leonora', 1963], ['João', 1965], ['Luiza', 2008], ['Maria', 1960]]\n"
          ]
        }
      ]
    }
  ]
}